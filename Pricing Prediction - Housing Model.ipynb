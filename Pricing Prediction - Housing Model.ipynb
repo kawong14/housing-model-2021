{
 "cells": [
  {
   "cell_type": "markdown",
   "id": "b6c151d3",
   "metadata": {},
   "source": [
    "## Import"
   ]
  },
  {
   "cell_type": "code",
   "execution_count": 18,
   "id": "31b9034d",
   "metadata": {},
   "outputs": [],
   "source": [
    "import numpy as np, pandas as pd"
   ]
  },
  {
   "cell_type": "code",
   "execution_count": 19,
   "id": "ca1a1aa4",
   "metadata": {},
   "outputs": [],
   "source": [
    "import seaborn as sns\n",
    "import matplotlib.pyplot as plt\n",
    "%matplotlib inline"
   ]
  },
  {
   "cell_type": "code",
   "execution_count": 20,
   "id": "9788bf4c",
   "metadata": {},
   "outputs": [],
   "source": [
    "df = pd.read_csv('THD-proj1.csv', index_col=0)\n"
   ]
  },
  {
   "cell_type": "code",
   "execution_count": 21,
   "id": "b4648e5a",
   "metadata": {
    "scrolled": true
   },
   "outputs": [
    {
     "data": {
      "text/html": [
       "<div>\n",
       "<style scoped>\n",
       "    .dataframe tbody tr th:only-of-type {\n",
       "        vertical-align: middle;\n",
       "    }\n",
       "\n",
       "    .dataframe tbody tr th {\n",
       "        vertical-align: top;\n",
       "    }\n",
       "\n",
       "    .dataframe thead th {\n",
       "        text-align: right;\n",
       "    }\n",
       "</style>\n",
       "<table border=\"1\" class=\"dataframe\">\n",
       "  <thead>\n",
       "    <tr style=\"text-align: right;\">\n",
       "      <th></th>\n",
       "      <th>GDP</th>\n",
       "      <th>Toronto Pop</th>\n",
       "      <th>Toronto Detached Avg Cost - Jan</th>\n",
       "      <th>Prime Mortgage Rate</th>\n",
       "      <th>Unemployment - Ontario</th>\n",
       "      <th>Housing Starts</th>\n",
       "      <th>Non-Res Construction Price Index Toronto</th>\n",
       "    </tr>\n",
       "  </thead>\n",
       "  <tbody>\n",
       "    <tr>\n",
       "      <th>2001</th>\n",
       "      <td>1365514.0</td>\n",
       "      <td>NaN</td>\n",
       "      <td>251000.0</td>\n",
       "      <td>7.25</td>\n",
       "      <td>5.7</td>\n",
       "      <td>41017.0</td>\n",
       "      <td>58.4</td>\n",
       "    </tr>\n",
       "    <tr>\n",
       "      <th>2006</th>\n",
       "      <td>1570036.0</td>\n",
       "      <td>NaN</td>\n",
       "      <td>353000.0</td>\n",
       "      <td>5.00</td>\n",
       "      <td>6.6</td>\n",
       "      <td>37080.0</td>\n",
       "      <td>72.5</td>\n",
       "    </tr>\n",
       "    <tr>\n",
       "      <th>2011</th>\n",
       "      <td>1662768.0</td>\n",
       "      <td>NaN</td>\n",
       "      <td>455000.0</td>\n",
       "      <td>3.00</td>\n",
       "      <td>8.2</td>\n",
       "      <td>39745.0</td>\n",
       "      <td>87.5</td>\n",
       "    </tr>\n",
       "    <tr>\n",
       "      <th>2016</th>\n",
       "      <td>1837860.0</td>\n",
       "      <td>NaN</td>\n",
       "      <td>1061789.0</td>\n",
       "      <td>2.70</td>\n",
       "      <td>6.8</td>\n",
       "      <td>39027.0</td>\n",
       "      <td>95.3</td>\n",
       "    </tr>\n",
       "    <tr>\n",
       "      <th>2021</th>\n",
       "      <td>1934643.0</td>\n",
       "      <td>NaN</td>\n",
       "      <td>1699756.0</td>\n",
       "      <td>2.45</td>\n",
       "      <td>10.2</td>\n",
       "      <td>38587.0</td>\n",
       "      <td>114.0</td>\n",
       "    </tr>\n",
       "  </tbody>\n",
       "</table>\n",
       "</div>"
      ],
      "text/plain": [
       "            GDP  Toronto Pop  Toronto Detached Avg Cost - Jan  \\\n",
       "2001  1365514.0          NaN                         251000.0   \n",
       "2006  1570036.0          NaN                         353000.0   \n",
       "2011  1662768.0          NaN                         455000.0   \n",
       "2016  1837860.0          NaN                        1061789.0   \n",
       "2021  1934643.0          NaN                        1699756.0   \n",
       "\n",
       "      Prime Mortgage Rate  Unemployment - Ontario  Housing Starts  \\\n",
       "2001                 7.25                     5.7         41017.0   \n",
       "2006                 5.00                     6.6         37080.0   \n",
       "2011                 3.00                     8.2         39745.0   \n",
       "2016                 2.70                     6.8         39027.0   \n",
       "2021                 2.45                    10.2         38587.0   \n",
       "\n",
       "      Non-Res Construction Price Index Toronto  \n",
       "2001                                      58.4  \n",
       "2006                                      72.5  \n",
       "2011                                      87.5  \n",
       "2016                                      95.3  \n",
       "2021                                     114.0  "
      ]
     },
     "execution_count": 21,
     "metadata": {},
     "output_type": "execute_result"
    }
   ],
   "source": [
    "df.head()"
   ]
  },
  {
   "cell_type": "code",
   "execution_count": 22,
   "id": "5feb8e77",
   "metadata": {
    "scrolled": true
   },
   "outputs": [
    {
     "data": {
      "text/plain": [
       "GDP                                         float64\n",
       "Toronto Pop                                 float64\n",
       "Toronto Detached Avg Cost - Jan             float64\n",
       "Prime Mortgage Rate                         float64\n",
       "Unemployment - Ontario                      float64\n",
       "Housing Starts                              float64\n",
       "Non-Res Construction Price Index Toronto    float64\n",
       "dtype: object"
      ]
     },
     "execution_count": 22,
     "metadata": {},
     "output_type": "execute_result"
    }
   ],
   "source": [
    "df.dtypes\n"
   ]
  },
  {
   "cell_type": "markdown",
   "id": "0325927e",
   "metadata": {},
   "source": [
    "## EDA (exploratory data analyses)"
   ]
  },
  {
   "cell_type": "code",
   "execution_count": 24,
   "id": "ff380c52",
   "metadata": {
    "scrolled": true
   },
   "outputs": [
    {
     "data": {
      "text/html": [
       "<div>\n",
       "<style scoped>\n",
       "    .dataframe tbody tr th:only-of-type {\n",
       "        vertical-align: middle;\n",
       "    }\n",
       "\n",
       "    .dataframe tbody tr th {\n",
       "        vertical-align: top;\n",
       "    }\n",
       "\n",
       "    .dataframe thead th {\n",
       "        text-align: right;\n",
       "    }\n",
       "</style>\n",
       "<table border=\"1\" class=\"dataframe\">\n",
       "  <thead>\n",
       "    <tr style=\"text-align: right;\">\n",
       "      <th></th>\n",
       "      <th>GDP</th>\n",
       "      <th>Toronto Pop</th>\n",
       "      <th>Toronto Detached Avg Cost - Jan</th>\n",
       "      <th>Prime Mortgage Rate</th>\n",
       "      <th>Unemployment - Ontario</th>\n",
       "      <th>Housing Starts</th>\n",
       "      <th>Non-Res Construction Price Index Toronto</th>\n",
       "    </tr>\n",
       "  </thead>\n",
       "  <tbody>\n",
       "    <tr>\n",
       "      <th>GDP</th>\n",
       "      <td>1.000000</td>\n",
       "      <td>NaN</td>\n",
       "      <td>0.908124</td>\n",
       "      <td>-0.937080</td>\n",
       "      <td>0.781867</td>\n",
       "      <td>-0.410329</td>\n",
       "      <td>0.980362</td>\n",
       "    </tr>\n",
       "    <tr>\n",
       "      <th>Toronto Pop</th>\n",
       "      <td>NaN</td>\n",
       "      <td>NaN</td>\n",
       "      <td>NaN</td>\n",
       "      <td>NaN</td>\n",
       "      <td>NaN</td>\n",
       "      <td>NaN</td>\n",
       "      <td>NaN</td>\n",
       "    </tr>\n",
       "    <tr>\n",
       "      <th>Toronto Detached Avg Cost - Jan</th>\n",
       "      <td>0.908124</td>\n",
       "      <td>NaN</td>\n",
       "      <td>1.000000</td>\n",
       "      <td>-0.724276</td>\n",
       "      <td>0.791913</td>\n",
       "      <td>-0.240756</td>\n",
       "      <td>0.926381</td>\n",
       "    </tr>\n",
       "    <tr>\n",
       "      <th>Prime Mortgage Rate</th>\n",
       "      <td>-0.937080</td>\n",
       "      <td>NaN</td>\n",
       "      <td>-0.724276</td>\n",
       "      <td>1.000000</td>\n",
       "      <td>-0.749441</td>\n",
       "      <td>0.376451</td>\n",
       "      <td>-0.921002</td>\n",
       "    </tr>\n",
       "    <tr>\n",
       "      <th>Unemployment - Ontario</th>\n",
       "      <td>0.781867</td>\n",
       "      <td>NaN</td>\n",
       "      <td>0.791913</td>\n",
       "      <td>-0.749441</td>\n",
       "      <td>1.000000</td>\n",
       "      <td>-0.246657</td>\n",
       "      <td>0.882366</td>\n",
       "    </tr>\n",
       "    <tr>\n",
       "      <th>Housing Starts</th>\n",
       "      <td>-0.410329</td>\n",
       "      <td>NaN</td>\n",
       "      <td>-0.240756</td>\n",
       "      <td>0.376451</td>\n",
       "      <td>-0.246657</td>\n",
       "      <td>1.000000</td>\n",
       "      <td>-0.320992</td>\n",
       "    </tr>\n",
       "    <tr>\n",
       "      <th>Non-Res Construction Price Index Toronto</th>\n",
       "      <td>0.980362</td>\n",
       "      <td>NaN</td>\n",
       "      <td>0.926381</td>\n",
       "      <td>-0.921002</td>\n",
       "      <td>0.882366</td>\n",
       "      <td>-0.320992</td>\n",
       "      <td>1.000000</td>\n",
       "    </tr>\n",
       "  </tbody>\n",
       "</table>\n",
       "</div>"
      ],
      "text/plain": [
       "                                               GDP  Toronto Pop  \\\n",
       "GDP                                       1.000000          NaN   \n",
       "Toronto Pop                                    NaN          NaN   \n",
       "Toronto Detached Avg Cost - Jan           0.908124          NaN   \n",
       "Prime Mortgage Rate                      -0.937080          NaN   \n",
       "Unemployment - Ontario                    0.781867          NaN   \n",
       "Housing Starts                           -0.410329          NaN   \n",
       "Non-Res Construction Price Index Toronto  0.980362          NaN   \n",
       "\n",
       "                                          Toronto Detached Avg Cost - Jan  \\\n",
       "GDP                                                              0.908124   \n",
       "Toronto Pop                                                           NaN   \n",
       "Toronto Detached Avg Cost - Jan                                  1.000000   \n",
       "Prime Mortgage Rate                                             -0.724276   \n",
       "Unemployment - Ontario                                           0.791913   \n",
       "Housing Starts                                                  -0.240756   \n",
       "Non-Res Construction Price Index Toronto                         0.926381   \n",
       "\n",
       "                                          Prime Mortgage Rate  \\\n",
       "GDP                                                 -0.937080   \n",
       "Toronto Pop                                               NaN   \n",
       "Toronto Detached Avg Cost - Jan                     -0.724276   \n",
       "Prime Mortgage Rate                                  1.000000   \n",
       "Unemployment - Ontario                              -0.749441   \n",
       "Housing Starts                                       0.376451   \n",
       "Non-Res Construction Price Index Toronto            -0.921002   \n",
       "\n",
       "                                          Unemployment - Ontario  \\\n",
       "GDP                                                     0.781867   \n",
       "Toronto Pop                                                  NaN   \n",
       "Toronto Detached Avg Cost - Jan                         0.791913   \n",
       "Prime Mortgage Rate                                    -0.749441   \n",
       "Unemployment - Ontario                                  1.000000   \n",
       "Housing Starts                                         -0.246657   \n",
       "Non-Res Construction Price Index Toronto                0.882366   \n",
       "\n",
       "                                          Housing Starts  \\\n",
       "GDP                                            -0.410329   \n",
       "Toronto Pop                                          NaN   \n",
       "Toronto Detached Avg Cost - Jan                -0.240756   \n",
       "Prime Mortgage Rate                             0.376451   \n",
       "Unemployment - Ontario                         -0.246657   \n",
       "Housing Starts                                  1.000000   \n",
       "Non-Res Construction Price Index Toronto       -0.320992   \n",
       "\n",
       "                                          Non-Res Construction Price Index Toronto  \n",
       "GDP                                                                       0.980362  \n",
       "Toronto Pop                                                                    NaN  \n",
       "Toronto Detached Avg Cost - Jan                                           0.926381  \n",
       "Prime Mortgage Rate                                                      -0.921002  \n",
       "Unemployment - Ontario                                                    0.882366  \n",
       "Housing Starts                                                           -0.320992  \n",
       "Non-Res Construction Price Index Toronto                                  1.000000  "
      ]
     },
     "execution_count": 24,
     "metadata": {},
     "output_type": "execute_result"
    }
   ],
   "source": [
    "df.corr()\n"
   ]
  },
  {
   "cell_type": "code",
   "execution_count": 25,
   "id": "e74626fe",
   "metadata": {},
   "outputs": [
    {
     "data": {
      "image/png": "[encoded data removed]",
      "text/plain": [
       "<Figure size 432x288 with 2 Axes>"
      ]
     },
     "metadata": {
      "needs_background": "light"
     },
     "output_type": "display_data"
    }
   ],
   "source": [
    "sns.heatmap(df.corr());\n"
   ]
  },
  {
   "cell_type": "markdown",
   "id": "c1cd680d",
   "metadata": {},
   "source": [
    "## Model Building"
   ]
  }
 ],
 "metadata": {
  "kernelspec": {
   "display_name": "Python 3",
   "language": "python",
   "name": "python3"
  },
  "language_info": {
   "codemirror_mode": {
    "name": "ipython",
    "version": 3
   },
   "file_extension": ".py",
   "mimetype": "text/x-python",
   "name": "python",
   "nbconvert_exporter": "python",
   "pygments_lexer": "ipython3",
   "version": "3.8.8"
  }
 },
 "nbformat": 4,
 "nbformat_minor": 5
}
